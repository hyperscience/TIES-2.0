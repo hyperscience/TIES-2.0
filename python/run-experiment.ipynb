{
 "cells": [
  {
   "cell_type": "code",
   "execution_count": 1,
   "id": "b8331408",
   "metadata": {},
   "outputs": [],
   "source": [
    "%load_ext autoreload\n",
    "%autoreload 2"
   ]
  },
  {
   "cell_type": "code",
   "execution_count": 2,
   "id": "2c765645",
   "metadata": {},
   "outputs": [],
   "source": [
    "import sys\n",
    "\n",
    "orig_path = sys.path[::]"
   ]
  },
  {
   "cell_type": "code",
   "execution_count": 3,
   "id": "7d3e460e",
   "metadata": {},
   "outputs": [],
   "source": [
    "extended_path = orig_path + [\n",
    "    '/Users/iliya.zhechevhyperscience.com/workspace/caloGraphNN',\n",
    "]\n",
    "sys.path = extended_path"
   ]
  },
  {
   "cell_type": "markdown",
   "id": "7623b2ab",
   "metadata": {},
   "source": [
    "---"
   ]
  },
  {
   "cell_type": "code",
   "execution_count": 4,
   "id": "aad18acb",
   "metadata": {},
   "outputs": [
    {
     "data": {
      "text/plain": [
       "'1.15.0'"
      ]
     },
     "execution_count": 4,
     "metadata": {},
     "output_type": "execute_result"
    }
   ],
   "source": [
    "import argparse\n",
    "from iterators.table_adjacency_parsing_iterator import TableAdjacencyParsingIterator\n",
    "from libs.configuration_manager import ConfigurationManager as gconfig\n",
    "import tensorflow as tf\n",
    "\n",
    "tf.__version__"
   ]
  },
  {
   "cell_type": "code",
   "execution_count": 5,
   "id": "e1c366e4",
   "metadata": {},
   "outputs": [],
   "source": [
    "try:\n",
    "    gconfig.init('../configs/config.ini', 'conv_graph_dgcnn_fast_conv')\n",
    "except Exception as e:\n",
    "    print(str(e))"
   ]
  },
  {
   "cell_type": "code",
   "execution_count": 6,
   "id": "4f53c450",
   "metadata": {},
   "outputs": [],
   "source": [
    "trainer = TableAdjacencyParsingIterator()\n",
    "tf.reset_default_graph()"
   ]
  },
  {
   "cell_type": "code",
   "execution_count": 7,
   "id": "0a47081d",
   "metadata": {
    "scrolled": false
   },
   "outputs": [
    {
     "name": "stdout",
     "output_type": "stream",
     "text": [
      "Dataset already present\n",
      "WARNING:tensorflow:From /Users/iliya.zhechevhyperscience.com/miniconda3/envs/hack-19/lib/python3.7/site-packages/tensorflow_core/python/autograph/converters/directives.py:119: The name tf.FixedLenFeature is deprecated. Please use tf.io.FixedLenFeature instead.\n",
      "\n",
      "WARNING:tensorflow:From /Users/iliya.zhechevhyperscience.com/miniconda3/envs/hack-19/lib/python3.7/site-packages/tensorflow_core/python/autograph/converters/directives.py:119: The name tf.parse_single_example is deprecated. Please use tf.io.parse_single_example instead.\n",
      "\n",
      "WARNING:tensorflow:From /Users/iliya.zhechevhyperscience.com/workspace/TIES-2.0/python/readers/image_words_reader.py:63: DatasetV1.make_one_shot_iterator (from tensorflow.python.data.ops.dataset_ops) is deprecated and will be removed in a future version.\n",
      "Instructions for updating:\n",
      "Use `for ... in dataset:` to iterate over a dataset. If using `tf.estimator`, return the `Dataset` object directly from your input function. As a last resort, you can use `tf.compat.v1.data.make_one_shot_iterator(dataset)`.\n",
      "WARNING:tensorflow:From /Users/iliya.zhechevhyperscience.com/workspace/TIES-2.0/python/models/basic_model.py:353: The name tf.variable_scope is deprecated. Please use tf.compat.v1.variable_scope instead.\n",
      "\n",
      "WARNING:tensorflow:From /Users/iliya.zhechevhyperscience.com/workspace/TIES-2.0/python/models/basic_model.py:125: The name tf.placeholder is deprecated. Please use tf.compat.v1.placeholder instead.\n",
      "\n",
      "WARNING:tensorflow:From /Users/iliya.zhechevhyperscience.com/workspace/TIES-2.0/python/models/fast_conv_segment.py:8: The name tf.image.resize_images is deprecated. Please use tf.image.resize instead.\n",
      "\n",
      "WARNING:tensorflow:From /Users/iliya.zhechevhyperscience.com/workspace/TIES-2.0/python/models/fast_conv_segment.py:10: conv2d (from tensorflow.python.layers.convolutional) is deprecated and will be removed in a future version.\n",
      "Instructions for updating:\n",
      "Use `tf.keras.layers.Conv2D` instead.\n",
      "WARNING:tensorflow:From /Users/iliya.zhechevhyperscience.com/miniconda3/envs/hack-19/lib/python3.7/site-packages/tensorflow_core/python/layers/convolutional.py:424: Layer.apply (from tensorflow.python.keras.engine.base_layer) is deprecated and will be removed in a future version.\n",
      "Instructions for updating:\n",
      "Please use `layer.__call__` method instead.\n",
      "WARNING:tensorflow:From /Users/iliya.zhechevhyperscience.com/workspace/TIES-2.0/python/models/dgcnn_segment.py:8: batch_normalization (from tensorflow.python.layers.normalization) is deprecated and will be removed in a future version.\n",
      "Instructions for updating:\n",
      "Use keras.layers.BatchNormalization instead.  In particular, `tf.control_dependencies(tf.GraphKeys.UPDATE_OPS)` should not be used (consult the `tf.keras.layers.batch_normalization` documentation).\n",
      "WARNING:tensorflow:From /Users/iliya.zhechevhyperscience.com/workspace/caloGraphNN/caloGraphNN.py:90: conv1d (from tensorflow.python.layers.convolutional) is deprecated and will be removed in a future version.\n",
      "Instructions for updating:\n",
      "Use `tf.keras.layers.Conv1D` instead.\n",
      "WARNING:tensorflow:From /Users/iliya.zhechevhyperscience.com/workspace/TIES-2.0/python/ops/ties.py:53: dense (from tensorflow.python.layers.core) is deprecated and will be removed in a future version.\n",
      "Instructions for updating:\n",
      "Use keras.layers.Dense instead.\n",
      "WARNING:tensorflow:From /Users/iliya.zhechevhyperscience.com/workspace/TIES-2.0/python/models/basic_model.py:194: Categorical.__init__ (from tensorflow.python.ops.distributions.categorical) is deprecated and will be removed after 2019-01-01.\n",
      "Instructions for updating:\n",
      "The TensorFlow Distributions library has moved to TensorFlow Probability (https://github.com/tensorflow/probability). You should update all references to use `tfp.distributions` instead of `tf.distributions`.\n",
      "WARNING:tensorflow:From /Users/iliya.zhechevhyperscience.com/miniconda3/envs/hack-19/lib/python3.7/site-packages/tensorflow_core/python/ops/distributions/categorical.py:242: Distribution.__init__ (from tensorflow.python.ops.distributions.distribution) is deprecated and will be removed after 2019-01-01.\n",
      "Instructions for updating:\n",
      "The TensorFlow Distributions library has moved to TensorFlow Probability (https://github.com/tensorflow/probability). You should update all references to use `tfp.distributions` instead of `tf.distributions`.\n",
      "WARNING:tensorflow:From /Users/iliya.zhechevhyperscience.com/miniconda3/envs/hack-19/lib/python3.7/site-packages/tensorflow_core/python/ops/distributions/categorical.py:278: multinomial (from tensorflow.python.ops.random_ops) is deprecated and will be removed in a future version.\n",
      "Instructions for updating:\n",
      "Use `tf.random.categorical` instead.\n",
      "WARNING:tensorflow:From /Users/iliya.zhechevhyperscience.com/workspace/TIES-2.0/python/models/basic_model.py:304: The name tf.summary.scalar is deprecated. Please use tf.compat.v1.summary.scalar instead.\n",
      "\n",
      "WARNING:tensorflow:From /Users/iliya.zhechevhyperscience.com/workspace/TIES-2.0/python/models/basic_model.py:322: The name tf.summary.merge is deprecated. Please use tf.compat.v1.summary.merge instead.\n",
      "\n",
      "WARNING:tensorflow:From /Users/iliya.zhechevhyperscience.com/workspace/TIES-2.0/python/models/basic_model.py:338: The name tf.get_collection is deprecated. Please use tf.compat.v1.get_collection instead.\n",
      "\n",
      "WARNING:tensorflow:From /Users/iliya.zhechevhyperscience.com/workspace/TIES-2.0/python/models/basic_model.py:338: The name tf.GraphKeys is deprecated. Please use tf.compat.v1.GraphKeys instead.\n",
      "\n",
      "WARNING:tensorflow:From /Users/iliya.zhechevhyperscience.com/workspace/TIES-2.0/python/models/basic_model.py:340: The name tf.train.AdamOptimizer is deprecated. Please use tf.compat.v1.train.AdamOptimizer instead.\n",
      "\n",
      "WARNING:tensorflow:From /Users/iliya.zhechevhyperscience.com/workspace/TIES-2.0/python/models/basic_model.py:387: The name tf.train.Saver is deprecated. Please use tf.compat.v1.train.Saver instead.\n",
      "\n",
      "WARNING:tensorflow:From /Users/iliya.zhechevhyperscience.com/workspace/TIES-2.0/python/libs/helpers.py:9: The name tf.trainable_variables is deprecated. Please use tf.compat.v1.trainable_variables instead.\n",
      "\n",
      "The model has 957344 parameters.\n",
      "Cleaned summary directory\n",
      "Cleaned visual feedback output directory\n",
      "WARNING:tensorflow:From /Users/iliya.zhechevhyperscience.com/workspace/TIES-2.0/python/iterators/table_adjacency_parsing_iterator.py:63: The name tf.Session is deprecated. Please use tf.compat.v1.Session instead.\n",
      "\n",
      "WARNING:tensorflow:From /Users/iliya.zhechevhyperscience.com/workspace/TIES-2.0/python/iterators/table_adjacency_parsing_iterator.py:65: The name tf.global_variables_initializer is deprecated. Please use tf.compat.v1.global_variables_initializer instead.\n",
      "\n",
      "WARNING:tensorflow:From /Users/iliya.zhechevhyperscience.com/workspace/TIES-2.0/python/iterators/table_adjacency_parsing_iterator.py:67: start_queue_runners (from tensorflow.python.training.queue_runner_impl) is deprecated and will be removed in a future version.\n",
      "Instructions for updating:\n",
      "To construct input pipelines, use the `tf.data` module.\n",
      "WARNING:tensorflow:`tf.train.start_queue_runners()` was called when no queue runners were defined. You can safely remove the call to this deprecated function.\n",
      "WARNING:tensorflow:From /Users/iliya.zhechevhyperscience.com/workspace/TIES-2.0/python/iterators/table_adjacency_parsing_iterator.py:68: The name tf.summary.FileWriter is deprecated. Please use tf.compat.v1.summary.FileWriter instead.\n",
      "\n",
      "Starting iterations\n",
      "Training Iteration 0:\n"
     ]
    },
    {
     "ename": "InvalidArgumentError",
     "evalue": "indices[18,677,5] = [18, 677, 900] does not index into param shape [25,900,900]\n\t [[node conv_graph_dgcnn_fast_conv_1/GatherNd_6 (defined at /Users/iliya.zhechevhyperscience.com/miniconda3/envs/hack-19/lib/python3.7/site-packages/tensorflow_core/python/framework/ops.py:1748) ]]\n\nOriginal stack trace for 'conv_graph_dgcnn_fast_conv_1/GatherNd_6':\n  File \"/Users/iliya.zhechevhyperscience.com/miniconda3/envs/hack-19/lib/python3.7/runpy.py\", line 193, in _run_module_as_main\n    \"__main__\", mod_spec)\n  File \"/Users/iliya.zhechevhyperscience.com/miniconda3/envs/hack-19/lib/python3.7/runpy.py\", line 85, in _run_code\n    exec(code, run_globals)\n  File \"/Users/iliya.zhechevhyperscience.com/miniconda3/envs/hack-19/lib/python3.7/site-packages/ipykernel_launcher.py\", line 16, in <module>\n    app.launch_new_instance()\n  File \"/Users/iliya.zhechevhyperscience.com/miniconda3/envs/hack-19/lib/python3.7/site-packages/traitlets/config/application.py\", line 845, in launch_instance\n    app.start()\n  File \"/Users/iliya.zhechevhyperscience.com/miniconda3/envs/hack-19/lib/python3.7/site-packages/ipykernel/kernelapp.py\", line 612, in start\n    self.io_loop.start()\n  File \"/Users/iliya.zhechevhyperscience.com/miniconda3/envs/hack-19/lib/python3.7/site-packages/tornado/platform/asyncio.py\", line 199, in start\n    self.asyncio_loop.run_forever()\n  File \"/Users/iliya.zhechevhyperscience.com/miniconda3/envs/hack-19/lib/python3.7/asyncio/base_events.py\", line 541, in run_forever\n    self._run_once()\n  File \"/Users/iliya.zhechevhyperscience.com/miniconda3/envs/hack-19/lib/python3.7/asyncio/base_events.py\", line 1786, in _run_once\n    handle._run()\n  File \"/Users/iliya.zhechevhyperscience.com/miniconda3/envs/hack-19/lib/python3.7/asyncio/events.py\", line 88, in _run\n    self._context.run(self._callback, *self._args)\n  File \"/Users/iliya.zhechevhyperscience.com/miniconda3/envs/hack-19/lib/python3.7/site-packages/tornado/ioloop.py\", line 688, in <lambda>\n    lambda f: self._run_callback(functools.partial(callback, future))\n  File \"/Users/iliya.zhechevhyperscience.com/miniconda3/envs/hack-19/lib/python3.7/site-packages/tornado/ioloop.py\", line 741, in _run_callback\n    ret = callback()\n  File \"/Users/iliya.zhechevhyperscience.com/miniconda3/envs/hack-19/lib/python3.7/site-packages/tornado/gen.py\", line 814, in inner\n    self.ctx_run(self.run)\n  File \"/Users/iliya.zhechevhyperscience.com/miniconda3/envs/hack-19/lib/python3.7/site-packages/tornado/gen.py\", line 775, in run\n    yielded = self.gen.send(value)\n  File \"/Users/iliya.zhechevhyperscience.com/miniconda3/envs/hack-19/lib/python3.7/site-packages/ipykernel/kernelbase.py\", line 374, in dispatch_queue\n    yield self.process_one()\n  File \"/Users/iliya.zhechevhyperscience.com/miniconda3/envs/hack-19/lib/python3.7/site-packages/tornado/gen.py\", line 250, in wrapper\n    runner = Runner(ctx_run, result, future, yielded)\n  File \"/Users/iliya.zhechevhyperscience.com/miniconda3/envs/hack-19/lib/python3.7/site-packages/tornado/gen.py\", line 741, in __init__\n    self.ctx_run(self.run)\n  File \"/Users/iliya.zhechevhyperscience.com/miniconda3/envs/hack-19/lib/python3.7/site-packages/tornado/gen.py\", line 775, in run\n    yielded = self.gen.send(value)\n  File \"/Users/iliya.zhechevhyperscience.com/miniconda3/envs/hack-19/lib/python3.7/site-packages/ipykernel/kernelbase.py\", line 358, in process_one\n    yield gen.maybe_future(dispatch(*args))\n  File \"/Users/iliya.zhechevhyperscience.com/miniconda3/envs/hack-19/lib/python3.7/site-packages/tornado/gen.py\", line 234, in wrapper\n    yielded = ctx_run(next, result)\n  File \"/Users/iliya.zhechevhyperscience.com/miniconda3/envs/hack-19/lib/python3.7/site-packages/ipykernel/kernelbase.py\", line 261, in dispatch_shell\n    yield gen.maybe_future(handler(stream, idents, msg))\n  File \"/Users/iliya.zhechevhyperscience.com/miniconda3/envs/hack-19/lib/python3.7/site-packages/tornado/gen.py\", line 234, in wrapper\n    yielded = ctx_run(next, result)\n  File \"/Users/iliya.zhechevhyperscience.com/miniconda3/envs/hack-19/lib/python3.7/site-packages/ipykernel/kernelbase.py\", line 538, in execute_request\n    user_expressions, allow_stdin,\n  File \"/Users/iliya.zhechevhyperscience.com/miniconda3/envs/hack-19/lib/python3.7/site-packages/tornado/gen.py\", line 234, in wrapper\n    yielded = ctx_run(next, result)\n  File \"/Users/iliya.zhechevhyperscience.com/miniconda3/envs/hack-19/lib/python3.7/site-packages/ipykernel/ipkernel.py\", line 302, in do_execute\n    res = shell.run_cell(code, store_history=store_history, silent=silent)\n  File \"/Users/iliya.zhechevhyperscience.com/miniconda3/envs/hack-19/lib/python3.7/site-packages/ipykernel/zmqshell.py\", line 539, in run_cell\n    return super(ZMQInteractiveShell, self).run_cell(*args, **kwargs)\n  File \"/Users/iliya.zhechevhyperscience.com/miniconda3/envs/hack-19/lib/python3.7/site-packages/IPython/core/interactiveshell.py\", line 2895, in run_cell\n    raw_cell, store_history, silent, shell_futures)\n  File \"/Users/iliya.zhechevhyperscience.com/miniconda3/envs/hack-19/lib/python3.7/site-packages/IPython/core/interactiveshell.py\", line 2940, in _run_cell\n    return runner(coro)\n  File \"/Users/iliya.zhechevhyperscience.com/miniconda3/envs/hack-19/lib/python3.7/site-packages/IPython/core/async_helpers.py\", line 68, in _pseudo_sync_runner\n    coro.send(None)\n  File \"/Users/iliya.zhechevhyperscience.com/miniconda3/envs/hack-19/lib/python3.7/site-packages/IPython/core/interactiveshell.py\", line 3166, in run_cell_async\n    interactivity=interactivity, compiler=compiler, result=result)\n  File \"/Users/iliya.zhechevhyperscience.com/miniconda3/envs/hack-19/lib/python3.7/site-packages/IPython/core/interactiveshell.py\", line 3357, in run_ast_nodes\n    if (await self.run_code(code, result,  async_=asy)):\n  File \"/Users/iliya.zhechevhyperscience.com/miniconda3/envs/hack-19/lib/python3.7/site-packages/IPython/core/interactiveshell.py\", line 3437, in run_code\n    exec(code_obj, self.user_global_ns, self.user_ns)\n  File \"<ipython-input-7-3435b262f1ae>\", line 1, in <module>\n    trainer.train()\n  File \"/Users/iliya.zhechevhyperscience.com/workspace/TIES-2.0/python/iterators/table_adjacency_parsing_iterator.py\", line 48, in train\n    model.initialize(training=True)\n  File \"/Users/iliya.zhechevhyperscience.com/workspace/TIES-2.0/python/models/basic_model.py\", line 117, in initialize\n    self.build_computation_graphs()\n  File \"/Users/iliya.zhechevhyperscience.com/workspace/TIES-2.0/python/models/basic_model.py\", line 385, in build_computation_graphs\n    self.build_classification_segments(graph_features, placeholders)\n  File \"/Users/iliya.zhechevhyperscience.com/workspace/TIES-2.0/python/models/basic_model.py\", line 295, in build_classification_segments\n    sampled_indices, computation_graph, gt_matrix = self.do_monte_carlo_sampling(graph_features, gt_sampled_adj_matrix)\n  File \"/Users/iliya.zhechevhyperscience.com/workspace/TIES-2.0/python/models/basic_model.py\", line 226, in do_monte_carlo_sampling\n    return samples, x, tf.gather_nd(gt_matrix, indexing_tensor_for_adj_matrices)\n  File \"/Users/iliya.zhechevhyperscience.com/miniconda3/envs/hack-19/lib/python3.7/site-packages/tensorflow_core/python/util/dispatch.py\", line 180, in wrapper\n    return target(*args, **kwargs)\n  File \"/Users/iliya.zhechevhyperscience.com/miniconda3/envs/hack-19/lib/python3.7/site-packages/tensorflow_core/python/ops/array_ops.py\", line 4277, in gather_nd\n    return gen_array_ops.gather_nd(params, indices, name=name)\n  File \"/Users/iliya.zhechevhyperscience.com/miniconda3/envs/hack-19/lib/python3.7/site-packages/tensorflow_core/python/ops/gen_array_ops.py\", line 3976, in gather_nd\n    \"GatherNd\", params=params, indices=indices, name=name)\n  File \"/Users/iliya.zhechevhyperscience.com/miniconda3/envs/hack-19/lib/python3.7/site-packages/tensorflow_core/python/framework/op_def_library.py\", line 794, in _apply_op_helper\n    op_def=op_def)\n  File \"/Users/iliya.zhechevhyperscience.com/miniconda3/envs/hack-19/lib/python3.7/site-packages/tensorflow_core/python/util/deprecation.py\", line 507, in new_func\n    return func(*args, **kwargs)\n  File \"/Users/iliya.zhechevhyperscience.com/miniconda3/envs/hack-19/lib/python3.7/site-packages/tensorflow_core/python/framework/ops.py\", line 3357, in create_op\n    attrs, op_def, compute_device)\n  File \"/Users/iliya.zhechevhyperscience.com/miniconda3/envs/hack-19/lib/python3.7/site-packages/tensorflow_core/python/framework/ops.py\", line 3426, in _create_op_internal\n    op_def=op_def)\n  File \"/Users/iliya.zhechevhyperscience.com/miniconda3/envs/hack-19/lib/python3.7/site-packages/tensorflow_core/python/framework/ops.py\", line 1748, in __init__\n    self._traceback = tf_stack.extract_stack()\n",
     "output_type": "error",
     "traceback": [
      "\u001b[0;31m---------------------------------------------------------------------------\u001b[0m",
      "\u001b[0;31mInvalidArgumentError\u001b[0m                      Traceback (most recent call last)",
      "\u001b[0;32m~/miniconda3/envs/hack-19/lib/python3.7/site-packages/tensorflow_core/python/client/session.py\u001b[0m in \u001b[0;36m_do_call\u001b[0;34m(self, fn, *args)\u001b[0m\n\u001b[1;32m   1364\u001b[0m     \u001b[0;32mtry\u001b[0m\u001b[0;34m:\u001b[0m\u001b[0;34m\u001b[0m\u001b[0;34m\u001b[0m\u001b[0m\n\u001b[0;32m-> 1365\u001b[0;31m       \u001b[0;32mreturn\u001b[0m \u001b[0mfn\u001b[0m\u001b[0;34m(\u001b[0m\u001b[0;34m*\u001b[0m\u001b[0margs\u001b[0m\u001b[0;34m)\u001b[0m\u001b[0;34m\u001b[0m\u001b[0;34m\u001b[0m\u001b[0m\n\u001b[0m\u001b[1;32m   1366\u001b[0m     \u001b[0;32mexcept\u001b[0m \u001b[0merrors\u001b[0m\u001b[0;34m.\u001b[0m\u001b[0mOpError\u001b[0m \u001b[0;32mas\u001b[0m \u001b[0me\u001b[0m\u001b[0;34m:\u001b[0m\u001b[0;34m\u001b[0m\u001b[0;34m\u001b[0m\u001b[0m\n",
      "\u001b[0;32m~/miniconda3/envs/hack-19/lib/python3.7/site-packages/tensorflow_core/python/client/session.py\u001b[0m in \u001b[0;36m_run_fn\u001b[0;34m(feed_dict, fetch_list, target_list, options, run_metadata)\u001b[0m\n\u001b[1;32m   1349\u001b[0m       return self._call_tf_sessionrun(options, feed_dict, fetch_list,\n\u001b[0;32m-> 1350\u001b[0;31m                                       target_list, run_metadata)\n\u001b[0m\u001b[1;32m   1351\u001b[0m \u001b[0;34m\u001b[0m\u001b[0m\n",
      "\u001b[0;32m~/miniconda3/envs/hack-19/lib/python3.7/site-packages/tensorflow_core/python/client/session.py\u001b[0m in \u001b[0;36m_call_tf_sessionrun\u001b[0;34m(self, options, feed_dict, fetch_list, target_list, run_metadata)\u001b[0m\n\u001b[1;32m   1442\u001b[0m                                             \u001b[0mfetch_list\u001b[0m\u001b[0;34m,\u001b[0m \u001b[0mtarget_list\u001b[0m\u001b[0;34m,\u001b[0m\u001b[0;34m\u001b[0m\u001b[0;34m\u001b[0m\u001b[0m\n\u001b[0;32m-> 1443\u001b[0;31m                                             run_metadata)\n\u001b[0m\u001b[1;32m   1444\u001b[0m \u001b[0;34m\u001b[0m\u001b[0m\n",
      "\u001b[0;31mInvalidArgumentError\u001b[0m: indices[18,677,5] = [18, 677, 900] does not index into param shape [25,900,900]\n\t [[{{node conv_graph_dgcnn_fast_conv_1/GatherNd_6}}]]",
      "\nDuring handling of the above exception, another exception occurred:\n",
      "\u001b[0;31mInvalidArgumentError\u001b[0m                      Traceback (most recent call last)",
      "\u001b[0;32m<ipython-input-7-3435b262f1ae>\u001b[0m in \u001b[0;36m<module>\u001b[0;34m\u001b[0m\n\u001b[0;32m----> 1\u001b[0;31m \u001b[0mtrainer\u001b[0m\u001b[0;34m.\u001b[0m\u001b[0mtrain\u001b[0m\u001b[0;34m(\u001b[0m\u001b[0;34m)\u001b[0m\u001b[0;34m\u001b[0m\u001b[0;34m\u001b[0m\u001b[0m\n\u001b[0m",
      "\u001b[0;32m~/workspace/TIES-2.0/python/iterators/table_adjacency_parsing_iterator.py\u001b[0m in \u001b[0;36mtrain\u001b[0;34m(self)\u001b[0m\n\u001b[1;32m     80\u001b[0m             \u001b[0mprint\u001b[0m\u001b[0;34m(\u001b[0m\u001b[0;34m\"Starting iterations\"\u001b[0m\u001b[0;34m)\u001b[0m\u001b[0;34m\u001b[0m\u001b[0;34m\u001b[0m\u001b[0m\n\u001b[1;32m     81\u001b[0m             \u001b[0;32mwhile\u001b[0m \u001b[0miteration_number\u001b[0m \u001b[0;34m<\u001b[0m \u001b[0mself\u001b[0m\u001b[0;34m.\u001b[0m\u001b[0mtrain_for_iterations\u001b[0m\u001b[0;34m:\u001b[0m\u001b[0;34m\u001b[0m\u001b[0;34m\u001b[0m\u001b[0m\n\u001b[0;32m---> 82\u001b[0;31m                 \u001b[0mmodel\u001b[0m\u001b[0;34m.\u001b[0m\u001b[0mrun_training_iteration\u001b[0m\u001b[0;34m(\u001b[0m\u001b[0msess\u001b[0m\u001b[0;34m,\u001b[0m \u001b[0msummary_writer\u001b[0m\u001b[0;34m,\u001b[0m \u001b[0miteration_number\u001b[0m\u001b[0;34m)\u001b[0m\u001b[0;34m\u001b[0m\u001b[0;34m\u001b[0m\u001b[0m\n\u001b[0m\u001b[1;32m     83\u001b[0m \u001b[0;34m\u001b[0m\u001b[0m\n\u001b[1;32m     84\u001b[0m                 \u001b[0;32mif\u001b[0m \u001b[0miteration_number\u001b[0m \u001b[0;34m%\u001b[0m \u001b[0mself\u001b[0m\u001b[0;34m.\u001b[0m\u001b[0mvalidate_after\u001b[0m \u001b[0;34m==\u001b[0m \u001b[0;36m0\u001b[0m\u001b[0;34m:\u001b[0m\u001b[0;34m\u001b[0m\u001b[0;34m\u001b[0m\u001b[0m\n",
      "\u001b[0;32m~/workspace/TIES-2.0/python/models/basic_model.py\u001b[0m in \u001b[0;36mrun_training_iteration\u001b[0;34m(self, sess, summary_writer, iteration_number)\u001b[0m\n\u001b[1;32m    407\u001b[0m         \u001b[0mops_to_run\u001b[0m \u001b[0;34m=\u001b[0m \u001b[0mself\u001b[0m\u001b[0;34m.\u001b[0m\u001b[0mgraph_predicted_sampled_adj_matrices\u001b[0m \u001b[0;34m+\u001b[0m \u001b[0mself\u001b[0m\u001b[0;34m.\u001b[0m\u001b[0mgraph_gt_sampled_adj_matrices\u001b[0m \u001b[0;34m+\u001b[0m\u001b[0;31m \u001b[0m\u001b[0;31m\\\u001b[0m\u001b[0;34m\u001b[0m\u001b[0;34m\u001b[0m\u001b[0m\n\u001b[1;32m    408\u001b[0m             \u001b[0mself\u001b[0m\u001b[0;34m.\u001b[0m\u001b[0mgraph_sampled_indices\u001b[0m\u001b[0;34m+\u001b[0m \u001b[0;34m[\u001b[0m\u001b[0mself\u001b[0m\u001b[0;34m.\u001b[0m\u001b[0mgraph_optimizer\u001b[0m\u001b[0;34m,\u001b[0m \u001b[0mself\u001b[0m\u001b[0;34m.\u001b[0m\u001b[0mgraph_prints\u001b[0m\u001b[0;34m,\u001b[0m \u001b[0mself\u001b[0m\u001b[0;34m.\u001b[0m\u001b[0mgraph_summaries_training\u001b[0m\u001b[0;34m]\u001b[0m\u001b[0;34m\u001b[0m\u001b[0;34m\u001b[0m\u001b[0m\n\u001b[0;32m--> 409\u001b[0;31m         \u001b[0mops_result\u001b[0m \u001b[0;34m=\u001b[0m \u001b[0msess\u001b[0m\u001b[0;34m.\u001b[0m\u001b[0mrun\u001b[0m\u001b[0;34m(\u001b[0m\u001b[0mops_to_run\u001b[0m\u001b[0;34m,\u001b[0m \u001b[0mfeed_dict\u001b[0m \u001b[0;34m=\u001b[0m \u001b[0mfeed_dict\u001b[0m\u001b[0;34m)\u001b[0m\u001b[0;34m\u001b[0m\u001b[0;34m\u001b[0m\u001b[0m\n\u001b[0m\u001b[1;32m    410\u001b[0m \u001b[0;34m\u001b[0m\u001b[0m\n\u001b[1;32m    411\u001b[0m         \u001b[0msummary_writer\u001b[0m\u001b[0;34m.\u001b[0m\u001b[0madd_summary\u001b[0m\u001b[0;34m(\u001b[0m\u001b[0mops_result\u001b[0m\u001b[0;34m[\u001b[0m\u001b[0;34m-\u001b[0m\u001b[0;36m1\u001b[0m\u001b[0;34m]\u001b[0m\u001b[0;34m,\u001b[0m \u001b[0miteration_number\u001b[0m\u001b[0;34m)\u001b[0m\u001b[0;34m\u001b[0m\u001b[0;34m\u001b[0m\u001b[0m\n",
      "\u001b[0;32m~/miniconda3/envs/hack-19/lib/python3.7/site-packages/tensorflow_core/python/client/session.py\u001b[0m in \u001b[0;36mrun\u001b[0;34m(self, fetches, feed_dict, options, run_metadata)\u001b[0m\n\u001b[1;32m    954\u001b[0m     \u001b[0;32mtry\u001b[0m\u001b[0;34m:\u001b[0m\u001b[0;34m\u001b[0m\u001b[0;34m\u001b[0m\u001b[0m\n\u001b[1;32m    955\u001b[0m       result = self._run(None, fetches, feed_dict, options_ptr,\n\u001b[0;32m--> 956\u001b[0;31m                          run_metadata_ptr)\n\u001b[0m\u001b[1;32m    957\u001b[0m       \u001b[0;32mif\u001b[0m \u001b[0mrun_metadata\u001b[0m\u001b[0;34m:\u001b[0m\u001b[0;34m\u001b[0m\u001b[0;34m\u001b[0m\u001b[0m\n\u001b[1;32m    958\u001b[0m         \u001b[0mproto_data\u001b[0m \u001b[0;34m=\u001b[0m \u001b[0mtf_session\u001b[0m\u001b[0;34m.\u001b[0m\u001b[0mTF_GetBuffer\u001b[0m\u001b[0;34m(\u001b[0m\u001b[0mrun_metadata_ptr\u001b[0m\u001b[0;34m)\u001b[0m\u001b[0;34m\u001b[0m\u001b[0;34m\u001b[0m\u001b[0m\n",
      "\u001b[0;32m~/miniconda3/envs/hack-19/lib/python3.7/site-packages/tensorflow_core/python/client/session.py\u001b[0m in \u001b[0;36m_run\u001b[0;34m(self, handle, fetches, feed_dict, options, run_metadata)\u001b[0m\n\u001b[1;32m   1178\u001b[0m     \u001b[0;32mif\u001b[0m \u001b[0mfinal_fetches\u001b[0m \u001b[0;32mor\u001b[0m \u001b[0mfinal_targets\u001b[0m \u001b[0;32mor\u001b[0m \u001b[0;34m(\u001b[0m\u001b[0mhandle\u001b[0m \u001b[0;32mand\u001b[0m \u001b[0mfeed_dict_tensor\u001b[0m\u001b[0;34m)\u001b[0m\u001b[0;34m:\u001b[0m\u001b[0;34m\u001b[0m\u001b[0;34m\u001b[0m\u001b[0m\n\u001b[1;32m   1179\u001b[0m       results = self._do_run(handle, final_targets, final_fetches,\n\u001b[0;32m-> 1180\u001b[0;31m                              feed_dict_tensor, options, run_metadata)\n\u001b[0m\u001b[1;32m   1181\u001b[0m     \u001b[0;32melse\u001b[0m\u001b[0;34m:\u001b[0m\u001b[0;34m\u001b[0m\u001b[0;34m\u001b[0m\u001b[0m\n\u001b[1;32m   1182\u001b[0m       \u001b[0mresults\u001b[0m \u001b[0;34m=\u001b[0m \u001b[0;34m[\u001b[0m\u001b[0;34m]\u001b[0m\u001b[0;34m\u001b[0m\u001b[0;34m\u001b[0m\u001b[0m\n",
      "\u001b[0;32m~/miniconda3/envs/hack-19/lib/python3.7/site-packages/tensorflow_core/python/client/session.py\u001b[0m in \u001b[0;36m_do_run\u001b[0;34m(self, handle, target_list, fetch_list, feed_dict, options, run_metadata)\u001b[0m\n\u001b[1;32m   1357\u001b[0m     \u001b[0;32mif\u001b[0m \u001b[0mhandle\u001b[0m \u001b[0;32mis\u001b[0m \u001b[0;32mNone\u001b[0m\u001b[0;34m:\u001b[0m\u001b[0;34m\u001b[0m\u001b[0;34m\u001b[0m\u001b[0m\n\u001b[1;32m   1358\u001b[0m       return self._do_call(_run_fn, feeds, fetches, targets, options,\n\u001b[0;32m-> 1359\u001b[0;31m                            run_metadata)\n\u001b[0m\u001b[1;32m   1360\u001b[0m     \u001b[0;32melse\u001b[0m\u001b[0;34m:\u001b[0m\u001b[0;34m\u001b[0m\u001b[0;34m\u001b[0m\u001b[0m\n\u001b[1;32m   1361\u001b[0m       \u001b[0;32mreturn\u001b[0m \u001b[0mself\u001b[0m\u001b[0;34m.\u001b[0m\u001b[0m_do_call\u001b[0m\u001b[0;34m(\u001b[0m\u001b[0m_prun_fn\u001b[0m\u001b[0;34m,\u001b[0m \u001b[0mhandle\u001b[0m\u001b[0;34m,\u001b[0m \u001b[0mfeeds\u001b[0m\u001b[0;34m,\u001b[0m \u001b[0mfetches\u001b[0m\u001b[0;34m)\u001b[0m\u001b[0;34m\u001b[0m\u001b[0;34m\u001b[0m\u001b[0m\n",
      "\u001b[0;32m~/miniconda3/envs/hack-19/lib/python3.7/site-packages/tensorflow_core/python/client/session.py\u001b[0m in \u001b[0;36m_do_call\u001b[0;34m(self, fn, *args)\u001b[0m\n\u001b[1;32m   1382\u001b[0m                     \u001b[0;34m'\\nsession_config.graph_options.rewrite_options.'\u001b[0m\u001b[0;34m\u001b[0m\u001b[0;34m\u001b[0m\u001b[0m\n\u001b[1;32m   1383\u001b[0m                     'disable_meta_optimizer = True')\n\u001b[0;32m-> 1384\u001b[0;31m       \u001b[0;32mraise\u001b[0m \u001b[0mtype\u001b[0m\u001b[0;34m(\u001b[0m\u001b[0me\u001b[0m\u001b[0;34m)\u001b[0m\u001b[0;34m(\u001b[0m\u001b[0mnode_def\u001b[0m\u001b[0;34m,\u001b[0m \u001b[0mop\u001b[0m\u001b[0;34m,\u001b[0m \u001b[0mmessage\u001b[0m\u001b[0;34m)\u001b[0m\u001b[0;34m\u001b[0m\u001b[0;34m\u001b[0m\u001b[0m\n\u001b[0m\u001b[1;32m   1385\u001b[0m \u001b[0;34m\u001b[0m\u001b[0m\n\u001b[1;32m   1386\u001b[0m   \u001b[0;32mdef\u001b[0m \u001b[0m_extend_graph\u001b[0m\u001b[0;34m(\u001b[0m\u001b[0mself\u001b[0m\u001b[0;34m)\u001b[0m\u001b[0;34m:\u001b[0m\u001b[0;34m\u001b[0m\u001b[0;34m\u001b[0m\u001b[0m\n",
      "\u001b[0;31mInvalidArgumentError\u001b[0m: indices[18,677,5] = [18, 677, 900] does not index into param shape [25,900,900]\n\t [[node conv_graph_dgcnn_fast_conv_1/GatherNd_6 (defined at /Users/iliya.zhechevhyperscience.com/miniconda3/envs/hack-19/lib/python3.7/site-packages/tensorflow_core/python/framework/ops.py:1748) ]]\n\nOriginal stack trace for 'conv_graph_dgcnn_fast_conv_1/GatherNd_6':\n  File \"/Users/iliya.zhechevhyperscience.com/miniconda3/envs/hack-19/lib/python3.7/runpy.py\", line 193, in _run_module_as_main\n    \"__main__\", mod_spec)\n  File \"/Users/iliya.zhechevhyperscience.com/miniconda3/envs/hack-19/lib/python3.7/runpy.py\", line 85, in _run_code\n    exec(code, run_globals)\n  File \"/Users/iliya.zhechevhyperscience.com/miniconda3/envs/hack-19/lib/python3.7/site-packages/ipykernel_launcher.py\", line 16, in <module>\n    app.launch_new_instance()\n  File \"/Users/iliya.zhechevhyperscience.com/miniconda3/envs/hack-19/lib/python3.7/site-packages/traitlets/config/application.py\", line 845, in launch_instance\n    app.start()\n  File \"/Users/iliya.zhechevhyperscience.com/miniconda3/envs/hack-19/lib/python3.7/site-packages/ipykernel/kernelapp.py\", line 612, in start\n    self.io_loop.start()\n  File \"/Users/iliya.zhechevhyperscience.com/miniconda3/envs/hack-19/lib/python3.7/site-packages/tornado/platform/asyncio.py\", line 199, in start\n    self.asyncio_loop.run_forever()\n  File \"/Users/iliya.zhechevhyperscience.com/miniconda3/envs/hack-19/lib/python3.7/asyncio/base_events.py\", line 541, in run_forever\n    self._run_once()\n  File \"/Users/iliya.zhechevhyperscience.com/miniconda3/envs/hack-19/lib/python3.7/asyncio/base_events.py\", line 1786, in _run_once\n    handle._run()\n  File \"/Users/iliya.zhechevhyperscience.com/miniconda3/envs/hack-19/lib/python3.7/asyncio/events.py\", line 88, in _run\n    self._context.run(self._callback, *self._args)\n  File \"/Users/iliya.zhechevhyperscience.com/miniconda3/envs/hack-19/lib/python3.7/site-packages/tornado/ioloop.py\", line 688, in <lambda>\n    lambda f: self._run_callback(functools.partial(callback, future))\n  File \"/Users/iliya.zhechevhyperscience.com/miniconda3/envs/hack-19/lib/python3.7/site-packages/tornado/ioloop.py\", line 741, in _run_callback\n    ret = callback()\n  File \"/Users/iliya.zhechevhyperscience.com/miniconda3/envs/hack-19/lib/python3.7/site-packages/tornado/gen.py\", line 814, in inner\n    self.ctx_run(self.run)\n  File \"/Users/iliya.zhechevhyperscience.com/miniconda3/envs/hack-19/lib/python3.7/site-packages/tornado/gen.py\", line 775, in run\n    yielded = self.gen.send(value)\n  File \"/Users/iliya.zhechevhyperscience.com/miniconda3/envs/hack-19/lib/python3.7/site-packages/ipykernel/kernelbase.py\", line 374, in dispatch_queue\n    yield self.process_one()\n  File \"/Users/iliya.zhechevhyperscience.com/miniconda3/envs/hack-19/lib/python3.7/site-packages/tornado/gen.py\", line 250, in wrapper\n    runner = Runner(ctx_run, result, future, yielded)\n  File \"/Users/iliya.zhechevhyperscience.com/miniconda3/envs/hack-19/lib/python3.7/site-packages/tornado/gen.py\", line 741, in __init__\n    self.ctx_run(self.run)\n  File \"/Users/iliya.zhechevhyperscience.com/miniconda3/envs/hack-19/lib/python3.7/site-packages/tornado/gen.py\", line 775, in run\n    yielded = self.gen.send(value)\n  File \"/Users/iliya.zhechevhyperscience.com/miniconda3/envs/hack-19/lib/python3.7/site-packages/ipykernel/kernelbase.py\", line 358, in process_one\n    yield gen.maybe_future(dispatch(*args))\n  File \"/Users/iliya.zhechevhyperscience.com/miniconda3/envs/hack-19/lib/python3.7/site-packages/tornado/gen.py\", line 234, in wrapper\n    yielded = ctx_run(next, result)\n  File \"/Users/iliya.zhechevhyperscience.com/miniconda3/envs/hack-19/lib/python3.7/site-packages/ipykernel/kernelbase.py\", line 261, in dispatch_shell\n    yield gen.maybe_future(handler(stream, idents, msg))\n  File \"/Users/iliya.zhechevhyperscience.com/miniconda3/envs/hack-19/lib/python3.7/site-packages/tornado/gen.py\", line 234, in wrapper\n    yielded = ctx_run(next, result)\n  File \"/Users/iliya.zhechevhyperscience.com/miniconda3/envs/hack-19/lib/python3.7/site-packages/ipykernel/kernelbase.py\", line 538, in execute_request\n    user_expressions, allow_stdin,\n  File \"/Users/iliya.zhechevhyperscience.com/miniconda3/envs/hack-19/lib/python3.7/site-packages/tornado/gen.py\", line 234, in wrapper\n    yielded = ctx_run(next, result)\n  File \"/Users/iliya.zhechevhyperscience.com/miniconda3/envs/hack-19/lib/python3.7/site-packages/ipykernel/ipkernel.py\", line 302, in do_execute\n    res = shell.run_cell(code, store_history=store_history, silent=silent)\n  File \"/Users/iliya.zhechevhyperscience.com/miniconda3/envs/hack-19/lib/python3.7/site-packages/ipykernel/zmqshell.py\", line 539, in run_cell\n    return super(ZMQInteractiveShell, self).run_cell(*args, **kwargs)\n  File \"/Users/iliya.zhechevhyperscience.com/miniconda3/envs/hack-19/lib/python3.7/site-packages/IPython/core/interactiveshell.py\", line 2895, in run_cell\n    raw_cell, store_history, silent, shell_futures)\n  File \"/Users/iliya.zhechevhyperscience.com/miniconda3/envs/hack-19/lib/python3.7/site-packages/IPython/core/interactiveshell.py\", line 2940, in _run_cell\n    return runner(coro)\n  File \"/Users/iliya.zhechevhyperscience.com/miniconda3/envs/hack-19/lib/python3.7/site-packages/IPython/core/async_helpers.py\", line 68, in _pseudo_sync_runner\n    coro.send(None)\n  File \"/Users/iliya.zhechevhyperscience.com/miniconda3/envs/hack-19/lib/python3.7/site-packages/IPython/core/interactiveshell.py\", line 3166, in run_cell_async\n    interactivity=interactivity, compiler=compiler, result=result)\n  File \"/Users/iliya.zhechevhyperscience.com/miniconda3/envs/hack-19/lib/python3.7/site-packages/IPython/core/interactiveshell.py\", line 3357, in run_ast_nodes\n    if (await self.run_code(code, result,  async_=asy)):\n  File \"/Users/iliya.zhechevhyperscience.com/miniconda3/envs/hack-19/lib/python3.7/site-packages/IPython/core/interactiveshell.py\", line 3437, in run_code\n    exec(code_obj, self.user_global_ns, self.user_ns)\n  File \"<ipython-input-7-3435b262f1ae>\", line 1, in <module>\n    trainer.train()\n  File \"/Users/iliya.zhechevhyperscience.com/workspace/TIES-2.0/python/iterators/table_adjacency_parsing_iterator.py\", line 48, in train\n    model.initialize(training=True)\n  File \"/Users/iliya.zhechevhyperscience.com/workspace/TIES-2.0/python/models/basic_model.py\", line 117, in initialize\n    self.build_computation_graphs()\n  File \"/Users/iliya.zhechevhyperscience.com/workspace/TIES-2.0/python/models/basic_model.py\", line 385, in build_computation_graphs\n    self.build_classification_segments(graph_features, placeholders)\n  File \"/Users/iliya.zhechevhyperscience.com/workspace/TIES-2.0/python/models/basic_model.py\", line 295, in build_classification_segments\n    sampled_indices, computation_graph, gt_matrix = self.do_monte_carlo_sampling(graph_features, gt_sampled_adj_matrix)\n  File \"/Users/iliya.zhechevhyperscience.com/workspace/TIES-2.0/python/models/basic_model.py\", line 226, in do_monte_carlo_sampling\n    return samples, x, tf.gather_nd(gt_matrix, indexing_tensor_for_adj_matrices)\n  File \"/Users/iliya.zhechevhyperscience.com/miniconda3/envs/hack-19/lib/python3.7/site-packages/tensorflow_core/python/util/dispatch.py\", line 180, in wrapper\n    return target(*args, **kwargs)\n  File \"/Users/iliya.zhechevhyperscience.com/miniconda3/envs/hack-19/lib/python3.7/site-packages/tensorflow_core/python/ops/array_ops.py\", line 4277, in gather_nd\n    return gen_array_ops.gather_nd(params, indices, name=name)\n  File \"/Users/iliya.zhechevhyperscience.com/miniconda3/envs/hack-19/lib/python3.7/site-packages/tensorflow_core/python/ops/gen_array_ops.py\", line 3976, in gather_nd\n    \"GatherNd\", params=params, indices=indices, name=name)\n  File \"/Users/iliya.zhechevhyperscience.com/miniconda3/envs/hack-19/lib/python3.7/site-packages/tensorflow_core/python/framework/op_def_library.py\", line 794, in _apply_op_helper\n    op_def=op_def)\n  File \"/Users/iliya.zhechevhyperscience.com/miniconda3/envs/hack-19/lib/python3.7/site-packages/tensorflow_core/python/util/deprecation.py\", line 507, in new_func\n    return func(*args, **kwargs)\n  File \"/Users/iliya.zhechevhyperscience.com/miniconda3/envs/hack-19/lib/python3.7/site-packages/tensorflow_core/python/framework/ops.py\", line 3357, in create_op\n    attrs, op_def, compute_device)\n  File \"/Users/iliya.zhechevhyperscience.com/miniconda3/envs/hack-19/lib/python3.7/site-packages/tensorflow_core/python/framework/ops.py\", line 3426, in _create_op_internal\n    op_def=op_def)\n  File \"/Users/iliya.zhechevhyperscience.com/miniconda3/envs/hack-19/lib/python3.7/site-packages/tensorflow_core/python/framework/ops.py\", line 1748, in __init__\n    self._traceback = tf_stack.extract_stack()\n"
     ]
    }
   ],
   "source": [
    "trainer.train()"
   ]
  },
  {
   "cell_type": "code",
   "execution_count": null,
   "id": "fecd28e8",
   "metadata": {},
   "outputs": [],
   "source": []
  }
 ],
 "metadata": {
  "kernelspec": {
   "display_name": "Python 3",
   "language": "python",
   "name": "python3"
  },
  "language_info": {
   "codemirror_mode": {
    "name": "ipython",
    "version": 3
   },
   "file_extension": ".py",
   "mimetype": "text/x-python",
   "name": "python",
   "nbconvert_exporter": "python",
   "pygments_lexer": "ipython3",
   "version": "3.7.10"
  }
 },
 "nbformat": 4,
 "nbformat_minor": 5
}
